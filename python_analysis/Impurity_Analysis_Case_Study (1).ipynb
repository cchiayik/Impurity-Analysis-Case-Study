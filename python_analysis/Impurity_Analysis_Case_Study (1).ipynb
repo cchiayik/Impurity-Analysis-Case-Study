{
  "nbformat": 4,
  "nbformat_minor": 0,
  "metadata": {
    "colab": {
      "provenance": [],
      "toc_visible": true
    },
    "kernelspec": {
      "name": "python3",
      "display_name": "Python 3"
    },
    "language_info": {
      "name": "python"
    }
  },
  "cells": [
    {
      "cell_type": "markdown",
      "source": [
        "MIT License\n",
        "\n",
        "Copyright (c) [2025] [Chew Chia Yik]\n",
        "\n",
        "Permission is hereby granted, free of charge, to any person obtaining a copy\n",
        "of this software and associated documentation files (\"Impurity Analysis Case Study\"), to deal\n",
        "in the Software without restriction, including without limitation the rights\n",
        "to use, copy, modify, merge, publish, distribute, sublicense, and/or sell\n",
        "copies of the Software, and to permit persons to whom the Software is\n",
        "furnished to do so, subject to the following conditions:\n",
        "\n",
        "The above copyright notice and this permission notice shall be included in all\n",
        "copies or substantial portions of the Software.\n",
        "\n",
        "THE SOFTWARE IS PROVIDED \"AS IS\", WITHOUT WARRANTY OF ANY KIND, EXPRESS OR\n",
        "IMPLIED, INCLUDING BUT NOT LIMITED TO THE WARRANTIES OF MERCHANTABILITY,\n",
        "FITNESS FOR A PARTICULAR PURPOSE AND NONINFRINGEMENT. IN NO EVENT SHALL THE\n",
        "AUTHORS OR COPYRIGHT HOLDERS BE LIABLE FOR ANY CLAIM, DAMAGES OR OTHER\n",
        "LIABILITY, WHETHER IN AN ACTION OF CONTRACT, TORT OR OTHERWISE, ARISING FROM,\n",
        "OUT OF OR IN CONNECTION WITH THE SOFTWARE OR THE USE OR OTHER DEALINGS IN THE\n",
        "SOFTWARE."
      ],
      "metadata": {
        "id": "sB_w9yHMU0O0"
      }
    },
    {
      "cell_type": "markdown",
      "source": [
        "# ⚛Title: Case Study for Impurity Across Different Reactor"
      ],
      "metadata": {
        "id": "KdTn1z4bBJZr"
      }
    },
    {
      "cell_type": "markdown",
      "source": [
        "# 1) Business Context\n",
        "In chemical manufacturing, maintaining product quality is critical—especially when it comes to controlling impurity levels in final output. This case study explores a real-world scenario involving a chemical plant that operates under varying catalyst concentrations, reaction temperatures, and reactor configurations across multiple shifts.\n",
        "\n"
      ],
      "metadata": {
        "id": "shr72v1VHOwV"
      }
    },
    {
      "cell_type": "markdown",
      "source": [
        "# 2) Objective\n",
        "The goal of this analysis is to determine how these process parameters interact and influence impurity levels. By applying statistical modeling techniques such as linear regression, interaction terms, and variance inflation factor (VIF) analysis, this project seeks to:\n",
        "\n",
        "\n",
        "1.   Identify key variables that significantly affect impurity formation\n",
        "2.   Quantify the interaction effects between operational conditions and time (shift)\n",
        "\n",
        "3.  Provide actionable insights for process optimization and quality control\n",
        "\n",
        "\n",
        "This notebook demonstrates not only data cleaning and exploratory data analysis (EDA), but also the application of design of experiment (DOE) principles and statistical diagnostics to evaluate model robustness.\n",
        "\n",
        "The project serves both as a practical case study in industrial data science and as a portfolio piece highlighting proficiency in:\n",
        "\n",
        "\n",
        "*   Python (pandas, seaborn, statsmodels, matplotlib)\n",
        "\n",
        "*   Data visualization\n",
        "\n",
        "*   Regression analysis\n",
        "\n",
        "*   Real-world problem-solving in the chemical engineering domain"
      ],
      "metadata": {
        "id": "TfMHt8alLZD1"
      }
    },
    {
      "cell_type": "markdown",
      "source": [
        "#Library Import, File Uploading and Data Overview  "
      ],
      "metadata": {
        "id": "Uzjzet8ZBR7G"
      }
    },
    {
      "cell_type": "code",
      "execution_count": null,
      "metadata": {
        "id": "xG8RYGXBH3g-"
      },
      "outputs": [],
      "source": [
        "# --------------------------------------------------------\n",
        "# Impurity Analysis Case Study\n",
        "# Created by Chew Chia Yik, 2025\n",
        "# This code is NOT authorized for reuse without permission.\n",
        "# --------------------------------------------------------\n",
        "\n",
        "import pandas as pd\n",
        "import statsmodels.formula.api as smf\n",
        "from google.colab import files\n",
        "import matplotlib.pyplot as plt\n",
        "import seaborn as sns\n",
        "uploaded = files.upload()  #for use to upload file (\"Impurity.csv\" for this case)\n",
        "pd.set_option('display.max_columns', None) #to display whole table, python might hide some columns while displaying\n",
        "df = pd.read_csv(\"Impurity.csv\") #read the file \"Impurity.csv\"\n",
        "headers= [\"Batch\",\"Day\",\"Impurity\",\n",
        "          \"Temp\",\"CatalystConc\",\"ReactionTime\",\n",
        "          \"Reactor\",\"Shift\"] #listing the header naming\n",
        "df.columns = headers\n",
        "\n",
        "print(df.head(10))\n",
        "# Ensure categorical types for 'Reactor and 'Shift'\n",
        "df['Reactor'] = df['Reactor'].astype('category')\n",
        "df['Shift'] = df['Shift'].astype('category')\n",
        "\n"
      ]
    },
    {
      "cell_type": "markdown",
      "source": [
        "Showcasing how the dataframe looks like by printing top 10 rows"
      ],
      "metadata": {
        "id": "ijwE8S0miT0B"
      }
    },
    {
      "cell_type": "code",
      "execution_count": null,
      "metadata": {
        "id": "-gE-Ez1qtyIA"
      },
      "outputs": [],
      "source": [
        "print(df.info())\n",
        "#count the non-null (non-missing data) and type of data ineach column"
      ]
    },
    {
      "cell_type": "markdown",
      "source": [
        "Non-Null Count is the count of non-missing data, useful for comparison with Range Index (the total count of row) to detect any missing data.\n",
        "Dtype returns the type of value of the column, for example Dtype for column \"Batch\" is \"int64\", indicating the batch is integer while Impurity,Temp, CatalystConc and ReactionTime is float as indicated by Dtype of 'float64'. While the 'Reactor' and 'Shift' is category type."
      ],
      "metadata": {
        "id": "RK1TIRGeIgBL"
      }
    },
    {
      "cell_type": "code",
      "source": [
        "print(df.describe())\n",
        "#display the statistic summary of each column"
      ],
      "metadata": {
        "id": "u3COfOeXAsIp"
      },
      "execution_count": null,
      "outputs": []
    },
    {
      "cell_type": "markdown",
      "source": [
        "df.describe() displays the statistic summary such as county, mean standard deviation, min, max and interquartile range.\n"
      ],
      "metadata": {
        "id": "jwIVY65si-2_"
      }
    },
    {
      "cell_type": "markdown",
      "source": [
        "# Correlation and HeatMap Illustration"
      ],
      "metadata": {
        "id": "5oMU_JJ5UmB0"
      }
    },
    {
      "cell_type": "code",
      "source": [
        "corr = df.corr() #display correlation of all variable in the dataframe\n",
        "corr\n"
      ],
      "metadata": {
        "id": "2QU1qBsYAt0A"
      },
      "execution_count": null,
      "outputs": []
    },
    {
      "cell_type": "markdown",
      "source": [
        "This table displays the correlation between each variable. Correlation ranges from -1 to 1. The closer the correlation to \"1\", indicates positive correlation between variables and vice versa. However, the closer the correlation to \"0\", indicates the variables has less or no correlation. For instance, the correlation between Impurity and Temp is \"0.746258\" indicates a significant high postive correlation beteen Impurity and Temp. To better illustrates the correlation, we will plot the correlation as heatmap. (*Remarks: perfect 1.0 exists due to the same variable used as both x and y variable such as \"Batch\" to \"Batch\")"
      ],
      "metadata": {
        "id": "rj71wnqBJUsr"
      }
    },
    {
      "cell_type": "code",
      "source": [
        "#plotting heatmap with correlation\n",
        "import numpy as np\n",
        "plt.figure(figsize=(8, 7)) #  Adjust figure size\n",
        "mask = np.triu(np.ones_like(corr, dtype=bool)) #to mask the upper right part to reduce repetitive data\n",
        "sns.heatmap(corr, annot=True, cmap='coolwarm', fmt=\".2f\", annot_kws={\"size\": 8}, mask=mask)\n",
        "# - annot=True: shows values on the cells\n",
        "# - cmap='coolwarm': color gradient from blue (negative) to red (positive)\n",
        "# - fmt=\".2f\": format numbers to 2 decimal places\n",
        "# - annot_kws: sets font size of text inside the cells\n",
        "plt.title('Correlation Matrix Heatmap') #graph title\n",
        "plt.show()"
      ],
      "metadata": {
        "id": "A-RcIhScAvMZ"
      },
      "execution_count": null,
      "outputs": []
    },
    {
      "cell_type": "markdown",
      "source": [
        "Now, the correlation is easier for understanding with heatmap illustration, where blue colour indicates low correlation, dark blue indicates negative correlation and red colour indicates postive correalrion. Some of the significant correlation are \"Impurity : Temp\", \"Impurity : CatalystConc\", \"CatalystConc:Temp\" with strong correlation. The \"Reactor\" seems to have moderate postive correlation with \"Impurity, \"Temp\" and \"CatalystConc\". Evident that different runs at different operating condition whihc lead to different impurity level."
      ],
      "metadata": {
        "id": "UwjhJkl7LXQ0"
      }
    },
    {
      "cell_type": "markdown",
      "source": [
        "# Pairplot"
      ],
      "metadata": {
        "id": "Emj-NE8UaxIY"
      }
    },
    {
      "cell_type": "code",
      "source": [
        "sns.pairplot(df,kind=\"reg\",\n",
        "    plot_kws={'line_kws': {'color': 'red'}, 'scatter_kws': {'alpha': 0.5}},\n",
        "             corner=True) #corner is to cut off the pairplot into a right triangle as the other half is just same\n",
        "plt.suptitle(\"Pairplot of All Numeric Variables\", y=1.02) #y=1.02 is the position of the tile"
      ],
      "metadata": {
        "id": "Z-Gqf-SBYOxT"
      },
      "execution_count": null,
      "outputs": []
    },
    {
      "cell_type": "markdown",
      "source": [
        "This plot is compacted regression line for every variable as seen in heat map. Pairplot allows more detailed illustration for data analyst."
      ],
      "metadata": {
        "id": "wtt6-PrnaOKV"
      }
    },
    {
      "cell_type": "markdown",
      "source": [
        "# Box Plot of Impurity vs Reactors"
      ],
      "metadata": {
        "id": "f0zqy820UxYN"
      }
    },
    {
      "cell_type": "code",
      "execution_count": null,
      "metadata": {
        "id": "C4HZx7Gndbrh"
      },
      "outputs": [],
      "source": [
        "#boxplot of Impurity vs Reactor\n",
        "sns.boxplot(x='Reactor',y= 'Impurity',data=df)\n",
        "plt.show()\n"
      ]
    },
    {
      "cell_type": "markdown",
      "source": [
        "From Reactor 1 to 3, the impurity in an upward trend. The Reactor 1 boxplot has the shortest whisker, indicates a narrow spread or variance of impurity. Reactor 1 has 1 outlier point above the whisker possibly due to special cause. The Reactor 3 has the highest impurity out of all reactors, with larger whisker indicating higher spread and instability within. Special care and supervision is required for Reactor 3 due to highest impurity and instability of process within.\n"
      ],
      "metadata": {
        "id": "4nAjnpARJqJC"
      }
    },
    {
      "cell_type": "markdown",
      "source": [
        "# Modelling"
      ],
      "metadata": {
        "id": "vHk9HKV6IvXF"
      }
    },
    {
      "cell_type": "code",
      "source": [
        "# Build the model\n",
        "import statsmodels.formula.api as smf\n",
        "model = smf.ols('Impurity ~ CatalystConc + Temp +Temp:ReactionTime + CatalystConc:ReactionTime + C(Reactor) + C(Reactor):C(Shift)', data=df).fit()\n",
        "\n",
        "# Summary\n",
        "print(model.summary())\n"
      ],
      "metadata": {
        "id": "2Iv18v-O651u"
      },
      "execution_count": null,
      "outputs": []
    },
    {
      "cell_type": "markdown",
      "source": [
        "The model yields an R-squared value of 0.837 and adjusted R-squared of 0.82, indicating a strong fit and that the independent variables explain a substantial portion of the variation in impurity levels. A high F-statistic and a low Prob(F) value further support the overall significance of the regression model. Additionally, the low p-values (P>|t|) for each variable suggest that their individual effects on the response are statistically significant. It is worth noting that the condition number is relatively high, around 440000, which may point to multicollinearity. However, given that the model represents underlying physical and chemical reactions, such a condition number is not unexpected."
      ],
      "metadata": {
        "id": "LS1auSBNjU33"
      }
    },
    {
      "cell_type": "markdown",
      "source": [
        "# Actual vs Predicted Plot"
      ],
      "metadata": {
        "id": "-LJcu_jYyl_b"
      }
    },
    {
      "cell_type": "code",
      "source": [
        "plt.scatter(model.fittedvalues, df['Impurity'], alpha=0.5)\n",
        "plt.plot([df['Impurity'].min(), df['Impurity'].max()], #the range of impurity as x -axis\n",
        "         [df['Impurity'].min(), df['Impurity'].max()], #the range of impurity at y-axis, plot a line of y=x\n",
        "         color='red', linestyle='--')\n",
        "plt.xlabel('Predicted Impurity')\n",
        "plt.ylabel('Actual Impurity')\n",
        "plt.title('Actual vs Predicted Impurity')\n",
        "plt.grid(True)\n",
        "plt.show()\n"
      ],
      "metadata": {
        "id": "BROLJqhHApoU"
      },
      "execution_count": null,
      "outputs": []
    },
    {
      "cell_type": "markdown",
      "source": [
        "The actual vs predicted plot shows that the model is well fitted with balanced variance and bias."
      ],
      "metadata": {
        "id": "GQHvpxmEpegR"
      }
    },
    {
      "cell_type": "markdown",
      "source": [
        "# Actual vs Fitted Plot"
      ],
      "metadata": {
        "id": "pHItnyiJyuER"
      }
    },
    {
      "cell_type": "code",
      "source": [
        "residuals = model.resid # define the residual\n",
        "fitted = model.fittedvalues  #define the fitted value\n",
        "\n",
        "plt.scatter(fitted, residuals, alpha=0.5)\n",
        "sns.residplot(x=model.fittedvalues, y=model.resid, lowess=True)\n",
        "plt.axhline(0, color='red', linestyle='--') #plot horizontal line at y=0 , red colour, dashed\n",
        "#labelling at x axis, y axis, title\n",
        "plt.xlabel('Fitted Values')\n",
        "plt.ylabel('Residuals')\n",
        "plt.title('Residuals vs Fitted')\n",
        "plt.grid(True) #display grid line\n",
        "plt.show()\n"
      ],
      "metadata": {
        "id": "twwt225hEZjw"
      },
      "execution_count": null,
      "outputs": []
    },
    {
      "cell_type": "markdown",
      "source": [
        "The random scattering of the residual observed in this residual vs fitted plot indicates that the model assumptions of linearity and constant variance are likely met.  There is no heteroscedasticity (non constant variance) as no funnel shape is observed."
      ],
      "metadata": {
        "id": "3Ew4H1Xwxeby"
      }
    },
    {
      "cell_type": "markdown",
      "source": [
        "# R squared of Reactor 1,2 and 3"
      ],
      "metadata": {
        "id": "PtzQwdIn0p55"
      }
    },
    {
      "cell_type": "code",
      "source": [
        "for reactor, group in df.groupby('Reactor', observed=False):  #create loop ,groupby filter the data by 'Reactor',  'group' is the list of 'Reactors', 'reactor' is the element of the list\n",
        "    print(f\"\\nR^2 for Reactor {reactor}\")\n",
        "    model = smf.ols('Impurity ~ CatalystConc + Temp +Temp:ReactionTime + CatalystConc:ReactionTime + C(Reactor) + C(Reactor):C(Shift)', data=group).fit()\n",
        "    print(\"R-squared:\", round(model.rsquared,4))  #.rsquared return the value of R^2 of each reactor in the model"
      ],
      "metadata": {
        "id": "e1624NULzOpJ"
      },
      "execution_count": null,
      "outputs": []
    },
    {
      "cell_type": "markdown",
      "source": [
        "Reactor 2 and 3 shows high R squared value, indicating both reactors are well fitted with the model. However the R^2 for Reactor 1 is only 0.6072, lowest among all reactors. This reason might due to less variation in inputs in Reactor 1 as we observed in the boxplot, making temperature and catalyst concentration weak predictors for Reactor 1. There's little variation in Reactor to explain, but not necessarily a \"bad\" model"
      ],
      "metadata": {
        "id": "N6WDWu5yz7L5"
      }
    },
    {
      "cell_type": "markdown",
      "source": [
        "# Actual vs Fitted for Reactor 1,2 and 3"
      ],
      "metadata": {
        "id": "d6cnTTBL05Q6"
      }
    },
    {
      "cell_type": "code",
      "source": [
        "for reactor, group in df.groupby('Reactor', observed=False):\n",
        "    print(f\"\\nModel for Reactor {reactor}\")\n",
        "    model = smf.ols('Impurity ~ CatalystConc + Temp +Temp:ReactionTime + CatalystConc:ReactionTime + C(Reactor) + C(Reactor):C(Shift)', data=group).fit()\n",
        "    # Predicted values\n",
        "    predicted = model.fittedvalues\n",
        "    # Actual values\n",
        "    actual = group['Impurity']\n",
        "    plt.figure(figsize=(6, 4))\n",
        "    sns.scatterplot(x=actual, y=predicted)\n",
        "    plt.plot([actual.min(), actual.max()], [actual.min(), actual.max()], 'r--')  # identity line\n",
        "    plt.xlabel('Actual Impurity')\n",
        "    plt.ylabel('Predicted Impurity')\n",
        "    plt.title('Actual vs Predicted')\n",
        "    plt.grid(True)\n",
        "    plt.tight_layout()\n",
        "    plt.show()"
      ],
      "metadata": {
        "id": "SEv4nFAa-b_F"
      },
      "execution_count": null,
      "outputs": []
    },
    {
      "cell_type": "markdown",
      "source": [
        "# Residual vs Fitted for Reactor 1,2 and 3"
      ],
      "metadata": {
        "id": "4zdPWRal2W4D"
      }
    },
    {
      "cell_type": "code",
      "source": [
        "import matplotlib.pyplot as plt #import matplotlib for graph plotting\n",
        "\n",
        "\n",
        "for reactor, group in df.groupby('Reactor',observed=False):\n",
        "    print(f\"\\nModel for Reactor {reactor}\")\n",
        "    model = smf.ols('Impurity ~ CatalystConc + Temp +Temp:ReactionTime + CatalystConc:ReactionTime + C(Reactor) + C(Reactor):C(Shift)', data=group).fit()\n",
        "    # Predicted values\n",
        "    predicted = model.fittedvalues\n",
        "    residuals = model.resid\n",
        "    # Actual values\n",
        "    actual = group['Impurity']\n",
        "\n",
        "    plt.figure(figsize=(6, 4))\n",
        "    sns.scatterplot(x=predicted, y=residuals)\n",
        "    sns.residplot(x=model.fittedvalues, y=model.resid, lowess=True)\n",
        "    plt.axhline(0, color='red')\n",
        "    plt.xlabel('Fitted Value')\n",
        "    plt.ylabel('Residual')\n",
        "    plt.title('Residual vs Fitted')\n",
        "    plt.grid(True)\n",
        "    plt.tight_layout()\n",
        "    plt.show()"
      ],
      "metadata": {
        "id": "ClfsD7eP_Yg2"
      },
      "execution_count": null,
      "outputs": []
    },
    {
      "cell_type": "markdown",
      "source": [
        "Residual Diagnostics (Per Reactor):\n",
        "While the residuals vs. fitted plot for the combined dataset appears reasonably random and homoscedastic, a reactor-wise breakdown reveals evident signs of non-linearity and heteroscedasticity, especially for Reactor 2 and Reactor 3. This discrepancy indicates that the global linear model, though acceptable at an aggregate level, fails to capture reactor-specific patterns—suggesting the presence of underlying non-linear dynamics, reactor-dependent effects, or missing interaction terms. These findings highlight the importance of granular model diagnostics in multi-system environments."
      ],
      "metadata": {
        "id": "deAK7Fbg2L5a"
      }
    },
    {
      "cell_type": "markdown",
      "source": [
        "#Variance Inflaction Factor (VIF)"
      ],
      "metadata": {
        "id": "AyiH0NpC41oi"
      }
    },
    {
      "cell_type": "code",
      "source": [
        "from statsmodels.stats.outliers_influence import variance_inflation_factor\n",
        "from patsy import dmatrices  #patsy is used to build design matrices (X, y) from a formula\n",
        "#dmatrices build a design matrix from the terms in the model\n",
        "y, X = dmatrices('Impurity ~ CatalystConc + Temp + Temp:ReactionTime + CatalystConc:ReactionTime + C(Reactor) + C(Reactor):C(Shift)', data=df, return_type='dataframe')\n",
        "vif = pd.DataFrame()\n",
        "vif[\"VIF\"] = [variance_inflation_factor(X.values, i) for i in range(X.shape[1])] #compute the VIF for all the columns in the matrix X\n",
        "vif[\"Variable\"] = X.columns\n",
        "print(vif)\n"
      ],
      "metadata": {
        "id": "G3Z_mgW_EdX3"
      },
      "execution_count": null,
      "outputs": []
    },
    {
      "cell_type": "markdown",
      "source": [
        "Variance Inflation Factor (VIF) analysis reveals severe multicollinearity among CatalystConc, Temp, and their respective interaction terms. In particular, CatalystConc and CatalystConc:ReactionTime show VIFs exceeding 5000, suggesting near-linear dependence.\n",
        "\n",
        "This is likely due to the narrow range of CatalystConc values, which limits the variability available for reliable estimation in the presence of interaction terms. High VIFs reduce model interpretability and can inflate standard errors of coefficients, potentially compromising inference."
      ],
      "metadata": {
        "id": "dF3ackhm6MNb"
      }
    },
    {
      "cell_type": "markdown",
      "source": [
        "# Data Standardization"
      ],
      "metadata": {
        "id": "mJqqJIH66yNj"
      }
    },
    {
      "cell_type": "code",
      "source": [
        "from sklearn.preprocessing import StandardScaler\n",
        "\n",
        "# Copy numeric variables\n",
        "numeric_cols = ['Temp', 'CatalystConc', 'ReactionTime']\n",
        "scaler = StandardScaler()\n",
        "df_scaled = df.copy() #making a duplicate of the original DataFrame, to safely scale values in df_scaled without losing or altering the original raw data.\n",
        "df_scaled[numeric_cols] = scaler.fit_transform(df[numeric_cols])\n",
        "model_scaled = smf.ols('Impurity ~ CatalystConc + Temp + Temp:ReactionTime + CatalystConc:ReactionTime + C(Reactor) + C(Reactor):C(Shift)', data=df_scaled).fit()\n",
        "print(model_scaled.summary())\n",
        "\n",
        "from patsy import dmatrices\n",
        "from statsmodels.stats.outliers_influence import variance_inflation_factor\n",
        "\n",
        "y, X = dmatrices('Impurity ~ CatalystConc + Temp + Temp:ReactionTime + CatalystConc:ReactionTime + C(Reactor) + C(Reactor):C(Shift)', data=df_scaled, return_type='dataframe')\n",
        "vif = pd.DataFrame()\n",
        "vif[\"VIF\"] = [variance_inflation_factor(X.values, i) for i in range(X.shape[1])]\n",
        "vif[\"Variable\"] = X.columns\n",
        "print(vif)\n"
      ],
      "metadata": {
        "id": "_LPHQvGpEtTN"
      },
      "execution_count": null,
      "outputs": []
    },
    {
      "cell_type": "markdown",
      "source": [
        "Standardizing continuous features reduced multicollinearity significantly (VIFs < 5 across all variables), especially for interaction terms. After standardization, key interactions such as Temp:ReactionTime and CatalystConc:ReactionTime emerged as significant, indicating critical non-linear behavior in process dynamics."
      ],
      "metadata": {
        "id": "8j12t7rpMlRZ"
      }
    },
    {
      "cell_type": "markdown",
      "source": [
        "# Optimisation (Minimize the Impurity for Reactor 1 Shift 1)"
      ],
      "metadata": {
        "id": "I0eMSAzT8Awk"
      }
    },
    {
      "cell_type": "code",
      "source": [
        "import numpy as np\n",
        "import pandas as pd\n",
        "import statsmodels.formula.api as smf\n",
        "from scipy.optimize import minimize\n",
        "\n",
        "model = smf.ols('Impurity ~ CatalystConc + Temp + Temp:ReactionTime + CatalystConc:ReactionTime + C(Reactor) + C(Reactor):C(Shift)', data=df).fit()\n",
        "\n",
        "# Function to predict impurity based on numeric inputs\n",
        "def predict_impurity(x):\n",
        "    # Unpack inputs\n",
        "    catalyst_conc, temp, reaction_time = x\n",
        "\n",
        "    #create input dataframe\n",
        "    input_data = pd.DataFrame({\n",
        "        'CatalystConc': [catalyst_conc],\n",
        "        'Temp': [temp],\n",
        "        'ReactionTime': [reaction_time],\n",
        "        'Reactor': [1],\n",
        "        'Shift': [1] # Set fixed Reactor and Shift level (e.g., Reactor = 1, Shift = 1)\n",
        "    })\n",
        "\n",
        "    try:\n",
        "        pred = model.predict(input_data)  #predict the value with the model\n",
        "        return pred[0]  # Return as scalar for minimize\n",
        "    except:\n",
        "        return np.inf  # If prediction fails, return large number (.inf = infinity)\n",
        "#try and except is important to avoid crashing the optimsation loop when dealing with missing data or worng data type\n",
        "\n",
        "# Define bounds for each variable: (min, max)\n",
        "bounds = [\n",
        "    (df['CatalystConc'].min(), df['CatalystConc'].max()),\n",
        "    (df['Temp'].min(), df['Temp'].max()),\n",
        "    (df['ReactionTime'].min(), df['ReactionTime'].max())\n",
        "]\n",
        "\n",
        "# Initial guess (can be anything, but generally use mean of each numerical variable)\n",
        "x0 = [df['CatalystConc'].mean(), df['Temp'].mean(), df['ReactionTime'].mean()]\n",
        "\n",
        "# Run optimization (minimize impurity), optimisation is a built in loop\n",
        "result = minimize(predict_impurity, x0=x0, bounds=bounds)\n",
        "\n",
        "# Display result\n",
        "print(\"Optimized Inputs for Reactor 1 Shift 1:\")\n",
        "print(f\"Catalyst Conc: {result.x[0]:.3f}\")\n",
        "print(f\"Temp: {result.x[1]:.2f}\")\n",
        "print(f\"Reaction Time: {result.x[2]:.2f}\")\n",
        "print(f\"Predicted Minimum Impurity: {predict_impurity(result.x):.4f}\")\n"
      ],
      "metadata": {
        "id": "F7hxffXOFaFP"
      },
      "execution_count": null,
      "outputs": []
    },
    {
      "cell_type": "markdown",
      "source": [
        "The code succesfully optimise the condition required (temperature, catalyst concentrationa and reaction time) for the smallest impurity in Reactor 1 and Shift 1 with the model built."
      ],
      "metadata": {
        "id": "m3YxmxtwA2F0"
      }
    },
    {
      "cell_type": "markdown",
      "source": [
        "# 📏 Limitations & Future Improvements\n",
        "While interaction terms (e.g., CatalystConc:ReactionTime, Temp:ReactionTime, C(Reactor):C(Shift)) have been included to account for potential synergistic effects, residual analysis by reactor suggests that the linear model still fails to fully capture underlying patterns — especially in Reactor 2 and 3. This indicates potential non-linear relationships or reactor-specific dynamics not addressed by the current approach.\n",
        "\n",
        "Future improvements could involve:\n",
        "\n",
        "* Developing separate models per reactor to account for distinct process behaviors.\n",
        "\n",
        "* Exploring non-linear regression methods (e.g., polynomial features, tree-based models) to better fit local patterns.\n",
        "\n",
        "* Including process-specific covariates or external factors if available (e.g., feedstock variability, maintenance schedule).\n",
        "\n",
        "This reflection demonstrates both critical evaluation of model performance and readiness to iterate — a core trait in real-world data modeling."
      ],
      "metadata": {
        "id": "slq1b5T8KQ48"
      }
    },
    {
      "cell_type": "markdown",
      "source": [
        "# 🧪 Conclusion\n",
        "This case study illustrates the ability to tackle complex, multivariable problems in a real industrial context—where ideal data rarely exists, and variation between equipment and operations is inevitable.\n",
        "\n",
        "Despite overall model validity when all reactors are combined, reactor-specific residual patterns revealed non-linearity and heteroscedasticity, particularly in Reactor 2 and Reactor 3. These findings underscore the importance of diagnostic checks beyond global R² values, highlighting potential differences in reactor dynamics that could affect impurity formation under certain shifts and conditions.\n",
        "\n",
        "Key outcomes:\n",
        "\n",
        "* Identified significant interaction effects between Reaction Time, Temperature, and Catalyst Concentration\n",
        "\n",
        "* Detected inconsistencies between combined and segmented model performance, prompting further investigation into reactor-specific behaviors\n",
        "\n",
        "* Demonstrated practical application of statistical modeling, residual analysis, and domain understanding to guide decision-making in manufacturing\n",
        "\n",
        "This project reflects a data-driven mindset, technical fluency in Python and regression modeling, and a strong grasp of the real-world implications of analytical results—making it not just an academic exercise, but a business-relevant problem-solving showcase."
      ],
      "metadata": {
        "id": "SAd9FFaMIGJV"
      }
    },
    {
      "cell_type": "markdown",
      "source": [
        "#Reference\n",
        "SAS, 2025. JMP Virtual Lab. Available at: https://vle.sas.com/course/view.php?id=13039"
      ],
      "metadata": {
        "id": "SopaQqRpXZO8"
      }
    }
  ]
}